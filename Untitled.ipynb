{
 "cells": [
  {
   "cell_type": "code",
   "execution_count": 2,
   "id": "383d610e",
   "metadata": {},
   "outputs": [
    {
     "ename": "FileNotFoundError",
     "evalue": "[Errno 2] No such file or directory: 'data_types.csv'",
     "output_type": "error",
     "traceback": [
      "\u001b[1;31m---------------------------------------------------------------------------\u001b[0m",
      "\u001b[1;31mFileNotFoundError\u001b[0m                         Traceback (most recent call last)",
      "Input \u001b[1;32mIn [2]\u001b[0m, in \u001b[0;36m<cell line: 4>\u001b[1;34m()\u001b[0m\n\u001b[0;32m      1\u001b[0m \u001b[38;5;28;01mimport\u001b[39;00m \u001b[38;5;21;01mcsv\u001b[39;00m\n\u001b[0;32m      3\u001b[0m \u001b[38;5;66;03m# Loading data types from CSV file\u001b[39;00m\n\u001b[1;32m----> 4\u001b[0m \u001b[38;5;28;01mwith\u001b[39;00m \u001b[38;5;28;43mopen\u001b[39;49m\u001b[43m(\u001b[49m\u001b[38;5;124;43m'\u001b[39;49m\u001b[38;5;124;43mdata_types.csv\u001b[39;49m\u001b[38;5;124;43m'\u001b[39;49m\u001b[43m,\u001b[49m\u001b[43m \u001b[49m\u001b[38;5;124;43m'\u001b[39;49m\u001b[38;5;124;43mr\u001b[39;49m\u001b[38;5;124;43m'\u001b[39;49m\u001b[43m)\u001b[49m \u001b[38;5;28;01mas\u001b[39;00m f:\n\u001b[0;32m      5\u001b[0m     reader \u001b[38;5;241m=\u001b[39m csv\u001b[38;5;241m.\u001b[39mreader(f)\n\u001b[0;32m      6\u001b[0m     data_types \u001b[38;5;241m=\u001b[39m {row[\u001b[38;5;241m0\u001b[39m]: row[\u001b[38;5;241m1\u001b[39m] \u001b[38;5;28;01mfor\u001b[39;00m row \u001b[38;5;129;01min\u001b[39;00m reader}\n",
      "\u001b[1;31mFileNotFoundError\u001b[0m: [Errno 2] No such file or directory: 'data_types.csv'"
     ]
    }
   ],
   "source": [
    "import csv\n",
    "\n",
    "with open('data_types.csv', 'r') as f:\n",
    "    reader = csv.reader(f)\n",
    "    data_types = {row[0]: row[1] for row in reader}\n",
    "\n",
    "# Splitting SQL query into separate components\n",
    "query_components = sql_query.split()\n",
    "\n",
    "# Getting table name\n",
    "table_name = query_components[3].strip()\n",
    "\n",
    "# Getting column names\n",
    "column_names = [c.strip() for c in query_components[1].strip('(),').split(',')]\n",
    "\n",
    "# Initializing LookML string\n",
    "lookml = \"view: {} {{\\n\".format(table_name)\n",
    "\n",
    "# Looping through column names and add to LookML string\n",
    "for column_name in column_names:\n",
    "    # Getting data type for column from data_types dictionary\n",
    "    data_type = data_types.get(column_name, 'string')\n",
    "    lookml += \"  dimension: {} {{\\n\".format(column_name)\n",
    "    lookml += \"    type: {}\\n\".format(data_type)\n",
    "    lookml += \"  }}\\n\"\n",
    "\n",
    "# Closeing LookML string\n",
    "lookml += \"}\"\n",
    "\n",
    "print(lookml)\n"
   ]
  },
  {
   "cell_type": "code",
   "execution_count": null,
   "id": "4882d9dc",
   "metadata": {},
   "outputs": [],
   "source": []
  }
 ],
 "metadata": {
  "kernelspec": {
   "display_name": "Python 3 (ipykernel)",
   "language": "python",
   "name": "python3"
  },
  "language_info": {
   "codemirror_mode": {
    "name": "ipython",
    "version": 3
   },
   "file_extension": ".py",
   "mimetype": "text/x-python",
   "name": "python",
   "nbconvert_exporter": "python",
   "pygments_lexer": "ipython3",
   "version": "3.9.12"
  }
 },
 "nbformat": 4,
 "nbformat_minor": 5
}
